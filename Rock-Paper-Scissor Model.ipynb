{
 "cells": [
  {
   "cell_type": "markdown",
   "metadata": {},
   "source": [
    "# Rock-Paper-Scissor dataset Model "
   ]
  },
  {
   "cell_type": "code",
   "execution_count": 15,
   "metadata": {},
   "outputs": [],
   "source": [
    "import tensorflow as tf\n",
    "from tensorflow.keras.preprocessing.image import ImageDataGenerator    #Import ImageDataGenerator to generate for Data-Augmentation.\n",
    "from tensorflow.keras.models import Sequential \n",
    "from tensorflow.keras.layers import Dense, Conv2D, MaxPool2D, Flatten, Dropout\n",
    "import numpy as np\n",
    "import matplotlib.pyplot as plt\n",
    "%matplotlib inline\n",
    "import os"
   ]
  },
  {
   "cell_type": "code",
   "execution_count": 2,
   "metadata": {},
   "outputs": [
    {
     "name": "stdout",
     "output_type": "stream",
     "text": [
      "Found 2520 images belonging to 3 classes.\n",
      "Found 372 images belonging to 3 classes.\n"
     ]
    }
   ],
   "source": [
    "#load the data :\n",
    "\n",
    "training_data_address = r\"D:\\Computer Science\\Machine Learning\\Dacuments\\My Datasets\\Rock Paper Scissor\\rps-training-set\\rps\"\n",
    "test_data_address = r\"D:\\Computer Science\\Machine Learning\\Dacuments\\My Datasets\\Rock Paper Scissor\\rps-test-set\\rps-test-set\"\n",
    "\n",
    "#Data Augmentation Step to get more data to train :\n",
    "\n",
    "training_datagen = ImageDataGenerator(rescale = 1./255,\n",
    "                                     horizontal_flip = True,\n",
    "                                     vertical_flip = True,\n",
    "                                      rotation_range = 40,\n",
    "                                     shear_range = 0.2,\n",
    "                                     zoom_range = 0.2,\n",
    "                                     fill_mode = 'nearest',\n",
    "                                     height_shift_range = 0.2,\n",
    "                                     width_shift_range = 0.2)\n",
    "\n",
    "test_datagen = ImageDataGenerator(rescale = 1./255)\n",
    "\n",
    "#\n",
    "\n",
    "training_data = training_datagen.flow_from_directory(training_data_address,\n",
    "                                                 target_size = (150,150),\n",
    "                                                  batch_size = 126,\n",
    "                                                    class_mode = 'categorical')\n",
    "\n",
    "test_data = test_datagen.flow_from_directory(test_data_address,\n",
    "                                                 target_size = (150,150),\n",
    "                                                  batch_size = 126,\n",
    "                                                    class_mode = 'categorical')"
   ]
  },
  {
   "cell_type": "code",
   "execution_count": 3,
   "metadata": {},
   "outputs": [
    {
     "name": "stdout",
     "output_type": "stream",
     "text": [
      "WARNING:tensorflow:sample_weight modes were coerced from\n",
      "  ...\n",
      "    to  \n",
      "  ['...']\n",
      "WARNING:tensorflow:sample_weight modes were coerced from\n",
      "  ...\n",
      "    to  \n",
      "  ['...']\n",
      "Train for 20 steps, validate for 3 steps\n",
      "Epoch 1/25\n",
      "20/20 [==============================] - 193s 10s/step - loss: 1.6641 - accuracy: 0.3381 - val_loss: 1.0961 - val_accuracy: 0.3333\n",
      "Epoch 2/25\n",
      "20/20 [==============================] - 179s 9s/step - loss: 1.1006 - accuracy: 0.3794 - val_loss: 1.1202 - val_accuracy: 0.3333\n",
      "Epoch 3/25\n",
      "20/20 [==============================] - 178s 9s/step - loss: 1.0830 - accuracy: 0.4056 - val_loss: 1.0666 - val_accuracy: 0.6237\n",
      "Epoch 4/25\n",
      "20/20 [==============================] - 176s 9s/step - loss: 1.1336 - accuracy: 0.4024 - val_loss: 1.0834 - val_accuracy: 0.3333\n",
      "Epoch 5/25\n",
      "20/20 [==============================] - 176s 9s/step - loss: 1.0493 - accuracy: 0.4405 - val_loss: 0.9442 - val_accuracy: 0.6667\n",
      "Epoch 6/25\n",
      "20/20 [==============================] - 176s 9s/step - loss: 1.0911 - accuracy: 0.4583 - val_loss: 0.9993 - val_accuracy: 0.6344\n",
      "Epoch 7/25\n",
      "20/20 [==============================] - 176s 9s/step - loss: 0.9410 - accuracy: 0.5353 - val_loss: 1.4847 - val_accuracy: 0.3333\n",
      "Epoch 8/25\n",
      "20/20 [==============================] - 176s 9s/step - loss: 0.9806 - accuracy: 0.5532 - val_loss: 0.8084 - val_accuracy: 0.6452\n",
      "Epoch 9/25\n",
      "20/20 [==============================] - 176s 9s/step - loss: 0.8413 - accuracy: 0.6091 - val_loss: 0.6278 - val_accuracy: 0.6237\n",
      "Epoch 10/25\n",
      "20/20 [==============================] - 176s 9s/step - loss: 0.7206 - accuracy: 0.6841 - val_loss: 0.3548 - val_accuracy: 0.9462\n",
      "Epoch 11/25\n",
      "20/20 [==============================] - 175s 9s/step - loss: 0.7244 - accuracy: 0.6837 - val_loss: 0.4439 - val_accuracy: 0.8898\n",
      "Epoch 12/25\n",
      "20/20 [==============================] - 176s 9s/step - loss: 0.5856 - accuracy: 0.7528 - val_loss: 0.2275 - val_accuracy: 0.9624\n",
      "Epoch 13/25\n",
      "20/20 [==============================] - 176s 9s/step - loss: 0.6086 - accuracy: 0.7567 - val_loss: 0.2216 - val_accuracy: 0.9409\n",
      "Epoch 14/25\n",
      "20/20 [==============================] - 177s 9s/step - loss: 0.4816 - accuracy: 0.8099 - val_loss: 0.2431 - val_accuracy: 0.9005\n",
      "Epoch 15/25\n",
      "20/20 [==============================] - 177s 9s/step - loss: 0.6820 - accuracy: 0.8024 - val_loss: 0.1437 - val_accuracy: 0.9597\n",
      "Epoch 16/25\n",
      "20/20 [==============================] - 177s 9s/step - loss: 0.3367 - accuracy: 0.8667 - val_loss: 0.1924 - val_accuracy: 0.9409\n",
      "Epoch 17/25\n",
      "20/20 [==============================] - 176s 9s/step - loss: 0.4384 - accuracy: 0.8480 - val_loss: 0.1217 - val_accuracy: 0.9570\n",
      "Epoch 18/25\n",
      "20/20 [==============================] - 178s 9s/step - loss: 0.3252 - accuracy: 0.8683 - val_loss: 0.1074 - val_accuracy: 0.9704\n",
      "Epoch 19/25\n",
      "20/20 [==============================] - 199s 10s/step - loss: 0.3935 - accuracy: 0.8492 - val_loss: 0.1132 - val_accuracy: 0.9677\n",
      "Epoch 20/25\n",
      "20/20 [==============================] - 240s 12s/step - loss: 0.2507 - accuracy: 0.9083 - val_loss: 0.1400 - val_accuracy: 0.9651\n",
      "Epoch 21/25\n",
      "20/20 [==============================] - 238s 12s/step - loss: 0.2873 - accuracy: 0.8964 - val_loss: 0.3583 - val_accuracy: 0.8952\n",
      "Epoch 22/25\n",
      "20/20 [==============================] - 206s 10s/step - loss: 0.2191 - accuracy: 0.9206 - val_loss: 0.1950 - val_accuracy: 0.9328\n",
      "Epoch 23/25\n",
      "20/20 [==============================] - 206s 10s/step - loss: 0.2219 - accuracy: 0.9127 - val_loss: 0.0850 - val_accuracy: 0.9839\n",
      "Epoch 24/25\n",
      "20/20 [==============================] - 206s 10s/step - loss: 0.2272 - accuracy: 0.9127 - val_loss: 0.6108 - val_accuracy: 0.7312\n",
      "Epoch 25/25\n",
      "20/20 [==============================] - 208s 10s/step - loss: 0.2578 - accuracy: 0.9063 - val_loss: 0.1279 - val_accuracy: 0.9597\n"
     ]
    }
   ],
   "source": [
    "model = Sequential([\n",
    "   \n",
    "    Conv2D(64, (3,3), activation = 'relu', input_shape = (150,150,3)),\n",
    "    MaxPool2D(2,2),\n",
    "    \n",
    "    Conv2D(64 , (3,3), activation = 'relu'),\n",
    "    MaxPool2D((2,2)),\n",
    "    \n",
    "    Conv2D(128 , (3,3), activation = 'relu'),\n",
    "    MaxPool2D(2,2),\n",
    "    \n",
    "    Conv2D(128 , (3,3), activation = 'relu'),\n",
    "    MaxPool2D(2,2),\n",
    "    \n",
    "    Flatten(),\n",
    "    \n",
    "    Dropout(0.5),     #Dropout of '0.5' to turn the '50%' of neurons off to reduce variance.\n",
    "    \n",
    "    Dense(512 , activation = 'relu'),\n",
    "    Dense(3 , activation = 'softmax')\n",
    "    \n",
    "])\n",
    "\n",
    "class Callback(tf.keras.callbacks.Callback):    # A callback class to cancel the training when it reaches 98% of accuracy.\n",
    "    def end_of_epoch(self , epochs, logs={}):\n",
    "        print(\"Maximum accuracy reached ! So cancelling the training.\")\n",
    "        if(logs.get[\"accuracy\"]>0.98):\n",
    "            self.model.stop_training = True\n",
    "\n",
    "#Compile the model :\n",
    "model.compile(loss = \"categorical_crossentropy\" , optimizer = 'rmsprop' , metrics = [\"accuracy\"])    \n",
    "\n",
    "callbacks = Callback()\n",
    "\n",
    "#Fit the model :\n",
    "history = model.fit(training_data, epochs = 25, steps_per_epoch = 20, validation_data = test_data, verbose = 1, validation_steps = 3, callbacks = [callbacks])"
   ]
  },
  {
   "cell_type": "code",
   "execution_count": 4,
   "metadata": {},
   "outputs": [
    {
     "data": {
      "image/png": "[encoded data removed]",
      "text/plain": [
       "<Figure size 432x288 with 1 Axes>"
      ]
     },
     "metadata": {
      "needs_background": "light"
     },
     "output_type": "display_data"
    },
    {
     "data": {
      "text/plain": [
       "<Figure size 432x288 with 0 Axes>"
      ]
     },
     "metadata": {},
     "output_type": "display_data"
    }
   ],
   "source": [
    "acc = history.history[\"accuracy\"]\n",
    "val_acc = history.history[\"val_accuracy\"]\n",
    "loss = history.history['loss']\n",
    "val_loss = history.history['val_loss']\n",
    "\n",
    "epochs = range(len(acc))\n",
    "\n",
    "plt.plot(epochs, acc, 'r', label = 'training_accuracy')\n",
    "plt.plot(epochs , val_acc , 'b' , label = 'validation_accuracy')\n",
    "plt.title(\"Training Accuracy\")\n",
    "plt.legend(loc=0)\n",
    "plt.figure()\n",
    "\n",
    "plt.show()"
   ]
  }
 ],
 "metadata": {
  "kernelspec": {
   "display_name": "Python 3",
   "language": "python",
   "name": "python3"
  },
  "language_info": {
   "codemirror_mode": {
    "name": "ipython",
    "version": 3
   },
   "file_extension": ".py",
   "mimetype": "text/x-python",
   "name": "python",
   "nbconvert_exporter": "python",
   "pygments_lexer": "ipython3",
   "version": "3.7.9"
  }
 },
 "nbformat": 4,
 "nbformat_minor": 4
}
